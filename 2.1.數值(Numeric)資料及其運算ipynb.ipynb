{
  "nbformat": 4,
  "nbformat_minor": 0,
  "metadata": {
    "colab": {
      "name": "2.1.數值(Numeric)資料及其運算ipynb",
      "provenance": [],
      "collapsed_sections": [],
      "authorship_tag": "ABX9TyM78nIpg46JrIlSoygsyrwL",
      "include_colab_link": true
    },
    "kernelspec": {
      "name": "python3",
      "display_name": "Python 3"
    }
  },
  "cells": [
    {
      "cell_type": "markdown",
      "metadata": {
        "id": "view-in-github",
        "colab_type": "text"
      },
      "source": [
        "<a href=\"https://colab.research.google.com/github/Hsu0214/CS2020B/blob/master/2.1.%E6%95%B8%E5%80%BC(Numeric)%E8%B3%87%E6%96%99%E5%8F%8A%E5%85%B6%E9%81%8B%E7%AE%97ipynb.ipynb\" target=\"_parent\"><img src=\"https://colab.research.google.com/assets/colab-badge.svg\" alt=\"Open In Colab\"/></a>"
      ]
    },
    {
      "cell_type": "code",
      "metadata": {
        "colab": {
          "base_uri": "https://localhost:8080/"
        },
        "id": "GxBLiKPMqtdj",
        "outputId": "59566915-45ba-4884-be63-793c561402d3"
      },
      "source": [
        "-3%2"
      ],
      "execution_count": 1,
      "outputs": [
        {
          "output_type": "execute_result",
          "data": {
            "text/plain": [
              "1"
            ]
          },
          "metadata": {
            "tags": []
          },
          "execution_count": 1
        }
      ]
    },
    {
      "cell_type": "code",
      "metadata": {
        "colab": {
          "base_uri": "https://localhost:8080/"
        },
        "id": "Jp-_mVbhtOqT",
        "outputId": "39ea3d8d-7148-49a6-f14e-7d8a7cd6664a"
      },
      "source": [
        "a = 7//2\r\n",
        "b = 7.0//2\r\n",
        "c = 7//2.0\r\n",
        "\r\n",
        "a,b,c"
      ],
      "execution_count": 2,
      "outputs": [
        {
          "output_type": "execute_result",
          "data": {
            "text/plain": [
              "(3, 3.0, 3.0)"
            ]
          },
          "metadata": {
            "tags": []
          },
          "execution_count": 2
        }
      ]
    },
    {
      "cell_type": "code",
      "metadata": {
        "colab": {
          "base_uri": "https://localhost:8080/"
        },
        "id": "5S1GgS__tOn7",
        "outputId": "3682cdb0-1904-408e-9d79-361f7f89dbc4"
      },
      "source": [
        "5 ** 2"
      ],
      "execution_count": 3,
      "outputs": [
        {
          "output_type": "execute_result",
          "data": {
            "text/plain": [
              "25"
            ]
          },
          "metadata": {
            "tags": []
          },
          "execution_count": 3
        }
      ]
    },
    {
      "cell_type": "code",
      "metadata": {
        "colab": {
          "base_uri": "https://localhost:8080/"
        },
        "id": "U74jukqRtOlX",
        "outputId": "a0340e8c-187b-480b-e989-2435bdf516cb"
      },
      "source": [
        "x = 5\r\n",
        "\r\n",
        "print(x > 3 and x < 10)"
      ],
      "execution_count": 4,
      "outputs": [
        {
          "output_type": "stream",
          "text": [
            "True\n"
          ],
          "name": "stdout"
        }
      ]
    },
    {
      "cell_type": "code",
      "metadata": {
        "colab": {
          "base_uri": "https://localhost:8080/"
        },
        "id": "f__pCBPjtOia",
        "outputId": "c4be77e0-8cd7-4ecf-bf37-90e2727f813f"
      },
      "source": [
        "x = 5\r\n",
        "\r\n",
        "print(not(x > 3 and x < 10))"
      ],
      "execution_count": 6,
      "outputs": [
        {
          "output_type": "stream",
          "text": [
            "False\n"
          ],
          "name": "stdout"
        }
      ]
    },
    {
      "cell_type": "code",
      "metadata": {
        "colab": {
          "base_uri": "https://localhost:8080/"
        },
        "id": "eq1jVJoWtOc6",
        "outputId": "68de8d99-b6f8-4129-b514-8e4c1f3981eb"
      },
      "source": [
        "#!/usr/bin/python3\r\n",
        " \r\n",
        "a = 60            # 60 = 0011 1100 \r\n",
        "b = 13            # 13 = 0000 1101 \r\n",
        "c = 0\r\n",
        "\r\n",
        "print (\"0 - a =  60 = 0011 1100(二進位) \")\r\n",
        "print (\"0 - b =  13 = 0000 1101(二進位) \")\r\n",
        "c = a & b;        # 12 = 0000 1100\r\n",
        "print (\"1 - c = a & b的值為：\", c)\r\n",
        " \r\n",
        "c = a | b;        # 61 = 0011 1101 \r\n",
        "print (\"2 - c = a | b的值為：\", c)\r\n",
        " \r\n",
        "c = a ^ b;        # 49 = 0011 0001\r\n",
        "print (\"3 - c= a ^ b 的值為：\", c)\r\n",
        " \r\n",
        "c = ~a;           # -61 = 1100 0011\r\n",
        "print (\"4 - c = ~a的值為：\", c)\r\n",
        " \r\n",
        "c = a << 2;       # 240 = 1111 0000\r\n",
        "print (\"5 - c = a << 2的值為：\", c)\r\n",
        " \r\n",
        "c = a >> 2;       # 15 = 0000 1111\r\n",
        "print (\"6 - c = a >> 2的值為：\", c)\r\n"
      ],
      "execution_count": 7,
      "outputs": [
        {
          "output_type": "stream",
          "text": [
            "0 - a =  60 = 0011 1100(二進位) \n",
            "0 - b =  13 = 0000 1101(二進位) \n",
            "1 - c = a & b的值為： 12\n",
            "2 - c = a | b的值為： 61\n",
            "3 - c= a ^ b 的值為： 49\n",
            "4 - c = ~a的值為： -61\n",
            "5 - c = a << 2的值為： 240\n",
            "6 - c = a >> 2的值為： 15\n"
          ],
          "name": "stdout"
        }
      ]
    },
    {
      "cell_type": "code",
      "metadata": {
        "colab": {
          "base_uri": "https://localhost:8080/"
        },
        "id": "-fkB8SirtOaV",
        "outputId": "5e685c18-33e6-4589-8a9a-6df0b5751543"
      },
      "source": [
        "x = abs(-36)\r\n",
        "x"
      ],
      "execution_count": 8,
      "outputs": [
        {
          "output_type": "execute_result",
          "data": {
            "text/plain": [
              "36"
            ]
          },
          "metadata": {
            "tags": []
          },
          "execution_count": 8
        }
      ]
    },
    {
      "cell_type": "code",
      "metadata": {
        "colab": {
          "base_uri": "https://localhost:8080/",
          "height": 35
        },
        "id": "YEIr8ym2tOUo",
        "outputId": "3ff2c02a-5302-4146-838f-8dcbd0c6c8ab"
      },
      "source": [
        "x = bin(36)\r\n",
        "x\r\n",
        "\r\n",
        "x = oct(36)\r\n",
        "x\r\n",
        "\r\n",
        "x = hex(255)\r\n",
        "x\r\n"
      ],
      "execution_count": 9,
      "outputs": [
        {
          "output_type": "execute_result",
          "data": {
            "application/vnd.google.colaboratory.intrinsic+json": {
              "type": "string"
            },
            "text/plain": [
              "'0xff'"
            ]
          },
          "metadata": {
            "tags": []
          },
          "execution_count": 9
        }
      ]
    },
    {
      "cell_type": "code",
      "metadata": {
        "colab": {
          "base_uri": "https://localhost:8080/"
        },
        "id": "JiK8syOntOQK",
        "outputId": "40e548fd-2902-4e38-ee03-f5fc598451b3"
      },
      "source": [
        "x=int('10',2)\r\n",
        "x\r\n",
        "\r\n",
        "x=int('10',16)\r\n",
        "x\r\n",
        "\r\n",
        "x=int('10',8)\r\n",
        "x"
      ],
      "execution_count": 10,
      "outputs": [
        {
          "output_type": "execute_result",
          "data": {
            "text/plain": [
              "8"
            ]
          },
          "metadata": {
            "tags": []
          },
          "execution_count": 10
        }
      ]
    },
    {
      "cell_type": "code",
      "metadata": {
        "colab": {
          "base_uri": "https://localhost:8080/"
        },
        "id": "QHQN-IvptONZ",
        "outputId": "2af5be58-b3d2-4e8b-f075-7b2e3a2969eb"
      },
      "source": [
        "#Round a number to only two decimals:\r\n",
        "\r\n",
        "x = round(5.76543, 2)\r\n",
        "print(x)\r\n",
        "\r\n",
        "# Round to the nearest integer:\r\n",
        "\r\n",
        "x = round(5.76543)\r\n",
        "print(x)\r\n"
      ],
      "execution_count": 11,
      "outputs": [
        {
          "output_type": "stream",
          "text": [
            "5.77\n",
            "6\n"
          ],
          "name": "stdout"
        }
      ]
    },
    {
      "cell_type": "code",
      "metadata": {
        "colab": {
          "base_uri": "https://localhost:8080/"
        },
        "id": "Dsd-fufotOKh",
        "outputId": "aa7fa9c2-6819-4284-e5b5-043750ec9496"
      },
      "source": [
        "a = 1.0004\r\n",
        "int(a)\r\n",
        "\r\n",
        "b = 0.9999\r\n",
        "int(a)"
      ],
      "execution_count": 12,
      "outputs": [
        {
          "output_type": "execute_result",
          "data": {
            "text/plain": [
              "1"
            ]
          },
          "metadata": {
            "tags": []
          },
          "execution_count": 12
        }
      ]
    },
    {
      "cell_type": "code",
      "metadata": {
        "id": "TS4_HdDHtOHw"
      },
      "source": [
        ""
      ],
      "execution_count": null,
      "outputs": []
    }
  ]
}